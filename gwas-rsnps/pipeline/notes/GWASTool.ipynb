{
 "cells": [
  {
   "cell_type": "markdown",
   "metadata": {
    "collapsed": true
   },
   "source": [
    "** Notes ** <br>\n",
    "To regenerate input data:\n",
    "* re-extract lists of rSNP (from HGMD) and/or cSNPs (from UCSC)  \n",
    "```\n",
    "../src/bash/get_rSNPs_from_local_hgmd.sh\n",
    "../src/bash/get_control-SNPs_from_UCSC.sh\n",
    "```\n",
    "* get metadata for above (from UCSC)\n",
    "```\n",
    "../src/bash/get_SNP_metadata_from_UCSC.sh csnps.rslist.txt csnps.ucsc_metadata.txt\n",
    "../src/bash/get_SNP_metadata_from_UCSC.sh rsnps.rslist.txt rsnps.ucsc_metadata.txt\n",
    "```\n",
    "\n",
    "To Generate PDF: \n",
    "```\n",
    "cd notes/; ipython nbconvert --to pdf GWASTool.ipynb\n",
    "```"
   ]
  },
  {
   "cell_type": "code",
   "execution_count": 2,
   "metadata": {
    "collapsed": false
   },
   "outputs": [],
   "source": [
    "import sys, os\n",
    "import pandas as pd\n",
    "import numpy as np\n",
    "import sklearn as sk\n",
    "from sklearn.ensemble import RandomForestClassifier\n",
    "from sklearn import metrics #roc_curve, auc, accuracy_score, roc_auc_score\n",
    "from sklearn.cross_validation import train_test_split\n",
    "import matplotlib.pyplot as plt\n",
    "%matplotlib inline\n",
    "\n",
    "pd.set_option('display.max_columns', 500) \n",
    "\n",
    "# Switch to workspace (launch @ <PROJECT_HOME>/notes/ OR <>/workspace/)\n",
    "os.chdir(\"../workspace/\")\n",
    "# os.listdir(\".\")"
   ]
  },
  {
   "cell_type": "code",
   "execution_count": 3,
   "metadata": {
    "collapsed": false
   },
   "outputs": [
    {
     "name": "stdout",
     "output_type": "stream",
     "text": [
      "Positive cases (2381) + Negative cases (6144) = Total (8525)\n"
     ]
    }
   ],
   "source": [
    "# Load and Concat training + test datasets\n",
    "positive = pd.read_csv(\"rsnps.ucsc_metadata.txt\", sep='\\t').fillna(0)\n",
    "unlabeled = pd.read_csv(\"csnps.ucsc_metadata.txt\", sep='\\t').fillna(0)\n",
    "\n",
    "# Add TSS (Transcription Start Site) metadata to above\n",
    "positiveTSS = pd.read_csv(\"rsnps.tss_metadata.txt\", sep='\\t')\n",
    "unlabeledTSS = pd.read_csv(\"csnps.tss_metadata.txt\", sep='\\t')\n",
    "positive = positive.merge(positiveTSS, on='name')\n",
    "unlabeled = unlabeled.merge(unlabeledTSS, on='name')\n",
    "\n",
    "# Add label\n",
    "positive['label'] = 1\n",
    "unlabeled['label'] = 0\n",
    "\n",
    "alldata = pd.concat([positive, unlabeled]) # concat rows\n",
    "print \"Positive cases (%d) + Negative cases (%d) = Total (%d)\" % \\\n",
    "    (len(positive), len(unlabeled), len(alldata))\n",
    "\n",
    "# alldata.to_csv(\"alldata.csv\")\n",
    "# print alldata.head()\n",
    "# print alldata.tail()"
   ]
  },
  {
   "cell_type": "markdown",
   "metadata": {},
   "source": [
    "Features in the model\n",
    "* chr: Chromosome\n",
    "* majorAllele, minorAllele\n",
    "* DHS_SourceCount: DNase1 Hypersensitive Site Count \n",
    "* num_tfs: Number of overlapping TF Binding Sites \n",
    "* phastCons: Phylogenetic Conservation (over 46 placental mammals) sumScore/validCount \n",
    "* tssDistance: Distance from nearest Transcription Start Site, +/- depending on strand"
   ]
  },
  {
   "cell_type": "code",
   "execution_count": 5,
   "metadata": {
    "collapsed": false
   },
   "outputs": [
    {
     "name": "stdout",
     "output_type": "stream",
     "text": [
      "#y:11774, #x.rows:11774, #x.cols:257\n"
     ]
    }
   ],
   "source": [
    "# Set up design-matrix\n",
    "# UCSC SNP142 Schema Notes: http://ucscbrowser.genap.ca/cgi-bin/hgTables?db=hg19&hgta_group=varRep&hgta_track=snp135&hgta_table=snp135&hgta_doSchema=describe+table+schema\n",
    "\n",
    "# extract first two alleles from UCSC column 'alleles'\n",
    "alleleFeature = alldata.alleles.str.split(',').tolist()\n",
    "alleleFeature = [[] if x is np.nan else x[0:2] for x in alleleFeature]\n",
    "alleleFeature = pd.DataFrame(alleleFeature, columns=\"majorAllele minorAllele\".split())\n",
    "alldata = alldata.merge(alleleFeature, left_index=True, right_index=True)\n",
    "\n",
    "# TFBS: text-to-columns \n",
    "tfbsOneHot = alldata['tf_names'].str.get_dummies(sep=',') # 158 TFBS columns\n",
    "alldata = alldata.merge(tfbsOneHot, left_index=True, right_index=True)\n",
    "\n",
    "# Create R-formula for the fit\n",
    "from patsy import dmatrices, dmatrix\n",
    "formula = 'label ~ C(chrom) + C(majorAllele) + C(minorAllele) + \\\n",
    "    DHS_SourceCount + num_tfs + phastCons + tssDistance + '\n",
    "formula += \" + \".join(tfbsOneHot.columns[1:])\n",
    "\n",
    "# create data-matrix\n",
    "y, X = dmatrices(formula, alldata, return_type=\"dataframe\")\n",
    "y = np.ravel(y)\n",
    "\n",
    "print \"#y:%d, #x.rows:%d, #x.cols:%d\" % (len(y), len(X), len(X.columns))"
   ]
  },
  {
   "cell_type": "code",
   "execution_count": null,
   "metadata": {
    "collapsed": true
   },
   "outputs": [],
   "source": [
    "# shuffle and split into (1) model building  and (2) model-comparison/holdout sets\n",
    "holdoutFraction = 0.25\n",
    "X_train, X_test, y_train, y_test = train_test_split(X, y, test_size=holdoutFraction, random_state=1337)"
   ]
  },
  {
   "cell_type": "code",
   "execution_count": 6,
   "metadata": {
    "collapsed": false
   },
   "outputs": [
    {
     "name": "stdout",
     "output_type": "stream",
     "text": [
      "RandomForestClassifier(bootstrap=True, class_weight=None, criterion='gini',\n",
      "            max_depth=None, max_features='auto', max_leaf_nodes=None,\n",
      "            min_samples_leaf=1, min_samples_split=2,\n",
      "            min_weight_fraction_leaf=0.0, n_estimators=100, n_jobs=-1,\n",
      "            oob_score=True, random_state=None, verbose=0, warm_start=False)\n"
     ]
    }
   ],
   "source": [
    "# Fit random forest\n",
    "# n_estimators: doesn't need tuning\n",
    "# class_weight: see http://scikit-learn.org/stable/modules/generated/sklearn.tree.DecisionTreeClassifier.html\n",
    "classifier = RandomForestClassifier(n_estimators=100, oob_score=True, \n",
    "                                    class_weight=None, n_jobs=-1)\n",
    "\n",
    "model = classifier.fit(X_train, y_train)\n",
    "print model"
   ]
  },
  {
   "cell_type": "code",
   "execution_count": 7,
   "metadata": {
    "collapsed": false
   },
   "outputs": [
    {
     "name": "stdout",
     "output_type": "stream",
     "text": [
      "OOB Error :  0.301359003398\n",
      "Training Accuracy:  0.924749447936\n",
      "Null Class Accuracy: %positive: 0.38, %unlabled: 0.62 \n",
      "\n",
      "Feature Importances (Normalized): \n",
      "                     Importance\n",
      "tssDistance           22.569494\n",
      "phastCons             14.394134\n",
      "num_tfs                6.014059\n",
      "DHS_SourceCount        5.754301\n",
      "C(minorAllele)[T.G]    1.518433\n",
      "C(majorAllele)[T.C]    1.437801\n",
      "C(majorAllele)[T.A]    1.410987\n",
      "C(minorAllele)[T.T]    1.317768\n",
      "C(minorAllele)[T.C]    1.135656\n",
      "C(chrom)[T.chr11]      0.873133\n",
      "C(majorAllele)[T.G]    0.774745\n",
      "EZH2                   0.759017\n",
      "CTCF                   0.740543\n",
      "C(chrom)[T.chr10]      0.734463\n",
      "C(chrom)[T.chr12]      0.694933 \n",
      "\n"
     ]
    }
   ],
   "source": [
    "# Report fit and feature-importance\n",
    "\n",
    "# oob_error = 1 - clf.oob_score_ : http://scikit-learn.org/stable/auto_examples/ensemble/plot_ensemble_oob.html\n",
    "print \"OOB Error : \", (1 - model.oob_score_)\n",
    "\n",
    "# Training Accuracy \n",
    "print \"Training Accuracy: \", classifier.score(X, y)\n",
    "\n",
    "# Null Class Accuracy\n",
    "# pos, unlab = y.iloc[:,0].mean(), y.iloc[:,1].mean()\n",
    "pos, unlab = y.mean(), 1 - y.mean()\n",
    "print \"Null Class Accuracy: %%positive: %.2f, %%unlabled: %.2f \\n\" % (pos, unlab)\n",
    "\n",
    "# Feature importance\n",
    "featureImportances = model.feature_importances_\n",
    "featureImportances = 100.0 * (featureImportances / featureImportances.sum()) #Normalize\n",
    "topFeatures = pd.DataFrame(featureImportances, index=[X.columns], columns=['Importance'])\n",
    "topFeatures = topFeatures.sort(columns='Importance', ascending=False)\n",
    "print \"Feature Importances (Normalized): \\n\", topFeatures.head(15), \"\\n\"\n",
    "\n",
    "# http://scikit-learn.org/stable/modules/generated/sklearn.ensemble.RandomForestClassifier.html\n",
    "# oob_decision_function_ : array of shape = [n_samples, n_classes]\n",
    "# votingFractions = model.oob_decision_function_\n",
    "# print votingFractions, \"\\n\" # pd.DataFrame()"
   ]
  },
  {
   "cell_type": "code",
   "execution_count": 8,
   "metadata": {
    "collapsed": false
   },
   "outputs": [
    {
     "name": "stdout",
     "output_type": "stream",
     "text": [
      "Holdout Accuracy:  0.704144021739\n",
      "(compare with) OOB Error:  0.301359003398\n",
      "Null Class Accuracy (holdout): %positive 0.39, %unlabeled 0.61\n",
      "ROC AUC: 0.725883658036 \n",
      "\n",
      "             precision    recall  f1-score   support\n",
      "\n",
      "        0.0       0.73      0.81      0.77      1785\n",
      "        1.0       0.65      0.54      0.59      1159\n",
      "\n",
      "avg / total       0.70      0.70      0.70      2944\n",
      "\n"
     ]
    },
    {
     "data": {
      "image/png": "[encoded data removed]",
      "text/plain": [
       "<matplotlib.figure.Figure at 0x106049ad0>"
      ]
     },
     "metadata": {},
     "output_type": "display_data"
    },
    {
     "data": {
      "image/png": "[encoded data removed]",
      "text/plain": [
       "<matplotlib.figure.Figure at 0x106387490>"
      ]
     },
     "metadata": {},
     "output_type": "display_data"
    }
   ],
   "source": [
    "# Holdout Accuracy \n",
    "y_test_predicted = classifier.predict(X_test)\n",
    "y_test_probs = classifier.predict_proba(X_test)\n",
    "print \"Holdout Accuracy: \", classifier.score(X_test, y_test) \n",
    "# metrics.accuracy_score(y_test, y_test_predicted) # holdout accuracy (alt. method)\n",
    "print \"(compare with) OOB Error: \", (1 - model.oob_score_)\n",
    "print \"Null Class Accuracy (holdout): %%positive %.2f, %%unlabeled %.2f\" % (y_test.mean(), 1 - y_test.mean())\n",
    "\n",
    "# Report AUROC \n",
    "roc_auc = metrics.roc_auc_score(y_test, y_test_probs[:,1])\n",
    "print \"ROC AUC:\", roc_auc, \"\\n\"\n",
    "\n",
    "# print metrics.confusion_matrix(y_test, y_test_predicted) \n",
    "print metrics.classification_report(y_test, y_test_predicted)\n",
    "\n",
    "# Get ROC Curve Data\n",
    "fpr, tpr, thresholds = metrics.roc_curve(y_test, y_test_probs[:,1])\n",
    "\n",
    "# Plot ROC\n",
    "plt.figure(figsize=(3,3))\n",
    "plt.plot(fpr, tpr, label='AUC = %0.2f' % roc_auc)\n",
    "plt.plot([0, 1], [0, 1], 'k--')\n",
    "plt.xlim([0.0, 1.0])\n",
    "plt.ylim([0.0, 1.05])\n",
    "plt.xlabel('False Positive Rate')\n",
    "plt.ylabel('True Positive Rate')\n",
    "plt.title('ROC Curve')\n",
    "plt.legend(loc=\"lower right\")\n",
    "plt.show()\n",
    "\n",
    "# make the plot\n",
    "plt.figure(figsize=(5,5))\n",
    "plt.plot([0, 1], [0, 1], 'k--')\n",
    "plt.xlim([-0.05, 1.0])\n",
    "plt.ylim([0.0, 1.05])\n",
    "plt.xlabel('False Positive Rate')\n",
    "plt.ylabel('True Positive Rate')\n",
    "plt.grid(True)\n",
    "plt.plot(fpr, tpr, label='AUC = {0}'.format(roc_auc))        \n",
    "plt.legend(loc=\"lower right\", shadow=True, fancybox =True) \n",
    "plt.show()"
   ]
  },
  {
   "cell_type": "code",
   "execution_count": 9,
   "metadata": {
    "collapsed": false
   },
   "outputs": [
    {
     "data": {
      "image/png": "[encoded data removed]",
      "text/plain": [
       "<matplotlib.figure.Figure at 0x1062ee890>"
      ]
     },
     "metadata": {},
     "output_type": "display_data"
    }
   ],
   "source": [
    "# Compare this ROC with GWAVA (directly compare with \"region-matched\" ROC data)\n",
    "gwava_roc_data = pd.read_csv(\"../data/GWAVAv1.0/paper_data/region_roc.csv\")\n",
    "fpr1, tpr1, auc1 = gwava_roc_data.fpr, gwava_roc_data.tpr, gwava_roc_data.auc[1]\n",
    "\n",
    "# Plot ROC\n",
    "plt.figure(figsize=(5,5))\n",
    "plt.plot(fpr, tpr, label='OSU ROC curve (area = %0.2f)' % roc_auc)\n",
    "plt.plot(fpr1, tpr1, label='GWAVA ROC curve (area = %0.2f)' % auc1)\n",
    "plt.plot([0, 1], [0, 1], 'k--', label='Chance')\n",
    "plt.xlim([0.0, 1.0])\n",
    "plt.ylim([0.0, 1.05])\n",
    "plt.xlabel('False Positive Rate')\n",
    "plt.ylabel('True Positive Rate')\n",
    "plt.title('ROC Curve')\n",
    "plt.legend(loc=\"lower right\")\n",
    "plt.show()\n",
    "\n"
   ]
  },
  {
   "cell_type": "code",
   "execution_count": 10,
   "metadata": {
    "collapsed": false
   },
   "outputs": [
    {
     "data": {
      "text/plain": [
       "54"
      ]
     },
     "execution_count": 10,
     "metadata": {},
     "output_type": "execute_result"
    }
   ],
   "source": [
    "# Compare this ROC with GWAVA \"region-matched\" predictions\n",
    "gwava_data = pd.read_csv(\"../data/GWAVAv1.0/paper_data/region_annotation.csv\")\n",
    "len(gwava_data) # 5027 rows\n",
    "gwava_data.rename(columns={'Unnamed: 0': 'SNP'}, inplace=True)\n",
    "gw = gwava_data.loc[:, [\"SNP\", \"cls\"]]\n",
    "gw.describe() # seems like cls=0 everywhere\n",
    "\n",
    "s1 = set(alldata.name) # 7969\n",
    "s1 = set(positive.name) # 2156\n",
    "len(s1) \n",
    "\n",
    "s2 = set(gw.SNP)\n",
    "len(s2) # 5027\n",
    "\n",
    "inter = s1.intersection(s2)\n",
    "len(inter) # 355 (with alldata), 56 (with positive)\n",
    "\n",
    "# Alt. file -- can't load!\n",
    "# from pandas import read_pickle \n",
    "# gwava_data = read_pickle(\"../data/GWAVAv1.0/training_sets/matched_by_region.bed\")"
   ]
  }
 ],
 "metadata": {
  "kernelspec": {
   "display_name": "Python 2",
   "language": "python",
   "name": "python2"
  },
  "language_info": {
   "codemirror_mode": {
    "name": "ipython",
    "version": 2
   },
   "file_extension": ".py",
   "mimetype": "text/x-python",
   "name": "python",
   "nbconvert_exporter": "python",
   "pygments_lexer": "ipython2",
   "version": "2.7.5"
  }
 },
 "nbformat": 4,
 "nbformat_minor": 0
}
